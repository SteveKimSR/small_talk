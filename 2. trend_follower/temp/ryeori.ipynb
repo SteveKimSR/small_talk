{
 "cells": [
  {
   "cell_type": "code",
   "execution_count": 1,
   "id": "4157e35d-6503-415b-bf2f-603b41f62243",
   "metadata": {},
   "outputs": [
    {
     "name": "stderr",
     "output_type": "stream",
     "text": [
      "100%|██████████| 1074/1074 [00:00<00:00, 178835.30it/s]\n"
     ]
    }
   ],
   "source": [
    "import crawler\n",
    "import word_research\n",
    "\n",
    "cc = crawler.crawler()\n",
    "acl = cc.acl2023_crawler()"
   ]
  },
  {
   "cell_type": "markdown",
   "metadata": {},
   "source": [
    "1. 모든 특수기호 삭제\n",
    "\n",
    "2. 불용어 삭제\n",
    "\n",
    "3. n-gram을 통해 단어 확인"
   ]
  },
  {
   "cell_type": "code",
   "execution_count": 2,
   "metadata": {},
   "outputs": [],
   "source": [
    "import nltk\n",
    "from nltk.util import ngrams\n",
    "import re\n",
    "from tqdm import tqdm\n",
    "import pandas as pd"
   ]
  },
  {
   "cell_type": "code",
   "execution_count": 3,
   "metadata": {},
   "outputs": [
    {
     "name": "stderr",
     "output_type": "stream",
     "text": [
      "100%|██████████| 1074/1074 [00:00<00:00, 3600.75it/s]\n"
     ]
    }
   ],
   "source": [
    "word_bag = []\n",
    "\n",
    "for i in tqdm(acl):\n",
    "\n",
    "    symbol_deleted = re.sub(r\"[^\\uAC00-\\uD7A30-9a-zA-Z\\s]\", \" \", i.lower())\n",
    "\n",
    "    stopwords = nltk.corpus.stopwords.words('english')\n",
    "    stopwords.append('a')\n",
    "    stopwords_deleted = [i for i in symbol_deleted.split() if not i in stopwords]\n",
    "\n",
    "    word_bag.extend(ngrams(stopwords_deleted, n=2))\n"
   ]
  },
  {
   "cell_type": "code",
   "execution_count": 7,
   "metadata": {},
   "outputs": [],
   "source": [
    "if ['elephant', 'room'] in word_bag:\n",
    "    print('true')"
   ]
  }
 ],
 "metadata": {
  "kernelspec": {
   "display_name": "development",
   "language": "python",
   "name": "python3"
  },
  "language_info": {
   "codemirror_mode": {
    "name": "ipython",
    "version": 3
   },
   "file_extension": ".py",
   "mimetype": "text/x-python",
   "name": "python",
   "nbconvert_exporter": "python",
   "pygments_lexer": "ipython3",
   "version": "3.12.4"
  }
 },
 "nbformat": 4,
 "nbformat_minor": 5
}
